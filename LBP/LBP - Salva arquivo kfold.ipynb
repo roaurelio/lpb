{
 "cells": [
  {
   "cell_type": "code",
   "execution_count": 30,
   "metadata": {},
   "outputs": [],
   "source": [
    "import cv2\n",
    "import os\n",
    "import numpy as np\n",
    "from skimage import feature\n",
    "from sklearn.model_selection import StratifiedKFold"
   ]
  },
  {
   "cell_type": "code",
   "execution_count": 31,
   "metadata": {},
   "outputs": [],
   "source": [
    "def criarListaImagens(listaCategorias, data_dir, img_size):\n",
    "  lista = []\n",
    "  for categoria in listaCategorias:\n",
    "    path = os.path.join(data_dir, categoria)\n",
    "    class_num = listaCategorias.index(categoria)\n",
    "    for img in os.listdir(path):\n",
    "      try:\n",
    "        img_array = cv2.imread(os.path.join(path, img))\n",
    "        new_array = cv2.resize(img_array, (img_size, img_size))\n",
    "        lista.append([new_array, class_num])\n",
    "      except Exception as e:\n",
    "        print(e)\n",
    "        pass\n",
    "  return lista\n",
    "\n",
    "#----------------------------------------------------------------------#\n",
    "\n",
    "def criaListaTreinoTeste(lista):\n",
    "  classes = []\n",
    "  imagens = []\n",
    "  for imagem in lista:\n",
    "    imagens.append(imagem[0])\n",
    "    classes.append(imagem[1])\n",
    "  return imagens, classes\n"
   ]
  },
  {
   "cell_type": "code",
   "execution_count": 32,
   "metadata": {},
   "outputs": [],
   "source": [
    "data_dir = r\"C:\\Users\\Rosana\\Documents\\Mestrado\\DataSets\\RIM_ONE_v2\"\n",
    "categorias = [\"glaucoma\",\"normal\"]\n",
    "img_size = 200\n",
    "listaImagens = criarListaImagens(categorias, data_dir, img_size)\n",
    "imagens, classes = criaListaTreinoTeste(listaImagens)"
   ]
  },
  {
   "cell_type": "code",
   "execution_count": 33,
   "metadata": {},
   "outputs": [],
   "source": [
    "skf = StratifiedKFold(n_splits=5, shuffle=True, random_state=None)\n",
    "\n",
    "count = 1\n",
    "for id_train, id_test in skf.split(imagens, classes):\n",
    "    np.savetxt('id_train_img_'+str(count)+'.out', id_train, delimiter=',')\n",
    "    np.savetxt('id_test_img_'+str(count)+'.out', id_test, delimiter=',')\n",
    "    count += 1\n"
   ]
  },
  {
   "cell_type": "code",
   "execution_count": null,
   "metadata": {},
   "outputs": [],
   "source": []
  }
 ],
 "metadata": {
  "kernelspec": {
   "display_name": "Python 3",
   "language": "python",
   "name": "python3"
  },
  "language_info": {
   "codemirror_mode": {
    "name": "ipython",
    "version": 3
   },
   "file_extension": ".py",
   "mimetype": "text/x-python",
   "name": "python",
   "nbconvert_exporter": "python",
   "pygments_lexer": "ipython3",
   "version": "3.7.3"
  }
 },
 "nbformat": 4,
 "nbformat_minor": 2
}
