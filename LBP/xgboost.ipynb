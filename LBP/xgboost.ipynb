{
 "cells": [
  {
   "cell_type": "code",
   "execution_count": 1,
   "metadata": {},
   "outputs": [],
   "source": [
    "import os\n",
    "import cv2\n",
    "import random\n",
    "import numpy as np\n",
    "from skimage import feature\n",
    "from xgboost import XGBClassifier\n",
    "from sklearn.model_selection import train_test_split\n",
    "from sklearn.model_selection import GridSearchCV"
   ]
  },
  {
   "cell_type": "code",
   "execution_count": 2,
   "metadata": {},
   "outputs": [],
   "source": [
    "def criarListaImagens(listaCategorias):\n",
    "  lista = []\n",
    "  for categoria in listaCategorias:\n",
    "    path = os.path.join(data_dir, categoria)\n",
    "    class_num = listaCategorias.index(categoria)\n",
    "    for img in os.listdir(path):\n",
    "      try:\n",
    "        img_array = cv2.imread(os.path.join(path, img))\n",
    "        new_array = cv2.resize(img_array, (img_size, img_size))\n",
    "        lista.append([new_array, class_num])\n",
    "      except Exception as e:\n",
    "        print(e)\n",
    "        pass\n",
    "  return lista\n",
    "\n",
    "#----------------------------------------------------------------------#\n",
    "\n",
    "def criaListaTreinoTeste(lista):\n",
    "  classes = []\n",
    "  imagens = []\n",
    "  for imagem in lista:\n",
    "    imagens.append(imagem[0])\n",
    "    classes.append(imagem[1])\n",
    "  return imagens, classes\n",
    "\n",
    "#----------------------------------------------------------------------#\n",
    "\n",
    "def obtemCanaisCoresRGB(listaOrigem):\n",
    "  listaDestino = []\n",
    "  for imagem in listaOrigem:\n",
    "    aux = cv2.split(imagem)\n",
    "    aux.append(cv2.cvtColor(imagem, cv2.COLOR_BGR2GRAY))\n",
    "    listaDestino.append(aux)\n",
    "\n",
    "  return listaDestino\n",
    "\n",
    "#----------------------------------------------------------------------#\n",
    "\n",
    "def obterCanaisCores(listaOrigem, cvt):\n",
    "  listaDestino = []\n",
    "  for imagem in listaOrigem:    \n",
    "    i = cv2.cvtColor(imagem, cvt)\n",
    "    aux = cv2.split(i)\n",
    "    aux = cv2.split(i)\n",
    "    aux.append(cv2.cvtColor(i, cv2.COLOR_BGR2GRAY))\n",
    "    listaDestino.append(aux)\n",
    "\n",
    "  return listaDestino\n",
    "\n",
    "#----------------------------------------------------------------------#\n",
    "\n",
    "class LocalBinaryPatterns:\n",
    "\tdef __init__(self, numPoints, radius):\n",
    "\t\tself.numPoints = numPoints\n",
    "\t\tself.radius = radius\n",
    "\tdef describe(self, image, eps=1e-7):\n",
    "\t\tlbp = feature.local_binary_pattern(image, self.numPoints,\n",
    "\t\t\tself.radius, method=\"uniform\")\n",
    "\t\t(hist, _) = np.histogram(lbp.ravel(),\n",
    "\t\t\tbins=np.arange(0, self.numPoints + 3),\n",
    "\t\t\trange=(0, self.numPoints + 2))\n",
    "\t\thist = hist.astype(\"float\")\n",
    "\t\thist /= (hist.sum() + eps)\n",
    "\t\treturn hist\n",
    "\n",
    "#----------------------------------------------------------------------#\n",
    "\n",
    "def obtemHistogramaCanais(listaImagens, lbp):\n",
    "  canal_1 = []\n",
    "  canal_2 = []\n",
    "  canal_3 = []\n",
    "  canal_cinza = []\n",
    "  for imagem in listaImagens:\n",
    "    canal_1.append(lbp.describe(imagem[0]))\n",
    "    canal_2.append(lbp.describe(imagem[1]))\n",
    "    canal_3.append(lbp.describe(imagem[2]))\n",
    "    canal_cinza.append(lbp.describe(imagem[3]))\n",
    "  return canal_1, canal_2, canal_3, canal_cinza\n",
    "\n",
    "#----------------------------------------------------------------------#\n"
   ]
  },
  {
   "cell_type": "code",
   "execution_count": 5,
   "metadata": {},
   "outputs": [],
   "source": [
    "data_dir = r\"C:\\Users\\Rosana\\Documents\\Mestrado\\DataSets\\RIM_ONE_v2\"\n",
    "categorias = [\"glaucoma\",\"normal\"]\n",
    "img_size = 200\n",
    "listaImagens = criarListaImagens(categorias)\n",
    "random.shuffle(listaImagens)\n",
    "\n",
    "imagens, classes = criaListaTreinoTeste(listaImagens)\n",
    "imagens_treino, imagens_teste, classes_treino, classes_teste = train_test_split(imagens, classes, test_size=0.33, random_state=42)\n",
    "\n",
    "listaRgbTreino = obtemCanaisCoresRGB(imagens_treino)\n",
    "listaHsvTreino = obterCanaisCores(imagens_treino, cv2.COLOR_BGR2HSV)\n",
    "listaLabTreino = obterCanaisCores(imagens_treino, cv2.COLOR_BGR2LAB)\n",
    "listaLuvTreino = obterCanaisCores(imagens_treino, cv2.COLOR_BGR2LUV)\n",
    "\n",
    "listaRgbTeste = obtemCanaisCoresRGB(imagens_teste)\n",
    "listaHsvTeste = obterCanaisCores(imagens_teste, cv2.COLOR_BGR2HSV)\n",
    "listaLabTeste = obterCanaisCores(imagens_teste, cv2.COLOR_BGR2LAB)\n",
    "listaLuvTeste = obterCanaisCores(imagens_teste, cv2.COLOR_BGR2LUV)\n",
    "\n",
    "_lbp = LocalBinaryPatterns(24, 8)\n",
    "\n",
    "lista_treino_rgb_b, lista_treino_rgb_g, lista_treino_rgb_r, lista_treino_rgb_gray = obtemHistogramaCanais(listaRgbTreino, _lbp)\n",
    "lista_treino_hsv_h, lista_treino_hsv_s, lista_treino_hsv_v, _ = obtemHistogramaCanais(listaHsvTreino, _lbp)\n",
    "lista_treino_lab_l, lista_treino_lab_a, lista_treino_lab_b, _ = obtemHistogramaCanais(listaLabTreino, _lbp)\n",
    "lista_treino_luv_l, lista_treino_luv_u, lista_treino_luv_v, _ = obtemHistogramaCanais(listaLuvTreino, _lbp)\n",
    "\n",
    "lista_teste_rgb_b, lista_teste_rgb_g, lista_teste_rgb_r, lista_teste_rgb_gray = obtemHistogramaCanais(listaRgbTeste, _lbp)\n",
    "lista_teste_hsv_h, lista_teste_hsv_s, lista_teste_hsv_v, _ = obtemHistogramaCanais(listaHsvTeste, _lbp)\n",
    "lista_teste_lab_l, lista_teste_lab_a, lista_teste_lab_b, _ = obtemHistogramaCanais(listaLabTeste, _lbp)\n",
    "lista_teste_luv_l, lista_teste_luv_u, lista_teste_luv_v, _ = obtemHistogramaCanais(listaLuvTeste, _lbp)\n"
   ]
  },
  {
   "cell_type": "code",
   "execution_count": 6,
   "metadata": {},
   "outputs": [
    {
     "name": "stdout",
     "output_type": "stream",
     "text": [
      "151\n"
     ]
    }
   ],
   "source": [
    "print(len(classes_teste))"
   ]
  },
  {
   "cell_type": "code",
   "execution_count": null,
   "metadata": {},
   "outputs": [],
   "source": [
    "from sklearn.metrics import precision_score, recall_score\n",
    "from sklearn.metrics import accuracy_score\n",
    "from sklearn.metrics import confusion_matrix\n",
    "from sklearn.metrics import classification_report\n",
    "from sklearn.metrics import f1_score\n",
    "from xgboost import XGBClassifier\n",
    "\n",
    "def xgboost(listaTreino, listaTeste, classesTreino, classesTeste):    \n",
    "    m = XGBClassifier(colsample_bytree= 0.7, \n",
    "    gamma= 0.2, learning_rate= 0.15, max_depth= 5, \n",
    "    min_child_weight= 1, eta= 0.3 ).fit(listaTreino, classesTreino)\n",
    "    preds = m.predict(listaTeste)\n",
    "    y_pred = m.predict(listaTeste)     \n",
    "    acc = accuracy_score(classesTeste, y_pred)\n",
    "    f1  = f1_score(classesTeste, y_pred, average=None)\n",
    "    cm  = confusion_matrix(classesTeste, y_pred)\n",
    "    return acc, f1, cm\n",
    "\n",
    "xgboost(np.array(lista_treino_rgb_r), np.array(lista_teste_rgb_r), np.array(classes_treino), np.array(classes_teste))"
   ]
  },
  {
   "cell_type": "code",
   "execution_count": 9,
   "metadata": {},
   "outputs": [],
   "source": [
    "\n",
    "parameters = {\n",
    "        'min_child_weight': [1, 5, 10],\n",
    "        'gamma': [0.2, 0.5, 1, 1.5, 2, 5],\n",
    "        'subsample': [0.6, 0.8, 1.0],\n",
    "        'colsample_bytree': [0.6, 0.7, 0.8, 1.0],\n",
    "        'max_depth': [3, 4, 5],\n",
    "        'n_estimators': [100, 200, 300, 400, 500]\n",
    "        }\n",
    "\n",
    "\n",
    "estimator = XGBClassifier(\n",
    "    objective= 'binary:logistic',\n",
    "    nthread=4,\n",
    "    seed = 42\n",
    ")\n",
    "\n",
    "grid_search = GridSearchCV(\n",
    "    estimator=estimator,\n",
    "    param_grid=parameters,\n",
    "    scoring = 'accuracy',\n",
    "    n_jobs = 10,\n",
    "    cv = 10,\n",
    "    verbose=False\n",
    ")"
   ]
  },
  {
   "cell_type": "code",
   "execution_count": 134,
   "metadata": {},
   "outputs": [
    {
     "name": "stderr",
     "output_type": "stream",
     "text": [
      "C:\\ProgramData\\Anaconda3\\lib\\site-packages\\sklearn\\model_selection\\_search.py:814: DeprecationWarning: The default of the `iid` parameter will change from True to False in version 0.22 and will be removed in 0.24. This will change numeric results when test-set sizes are unequal.\n",
      "  DeprecationWarning)\n"
     ]
    },
    {
     "name": "stdout",
     "output_type": "stream",
     "text": [
      "{'colsample_bytree': 0.7, 'gamma': 0.2, 'learning_rate': 0.15, 'max_depth': 5, 'min_child_weight': 1, 'n_estimators': 500}\n",
      "0.789010989010989\n"
     ]
    }
   ],
   "source": [
    "# RGB - GRAY\n",
    "X = np.concatenate((np.array(lista_treino_rgb_gray), np.array(lista_teste_rgb_gray)))\n",
    "y = np.concatenate((np.array(classes_treino), np.array(classes_teste)))\n",
    "best_model = grid_search.fit(X, y)\n",
    "print(best_model.best_params_)\n",
    "print(best_model.best_score_)"
   ]
  },
  {
   "cell_type": "code",
   "execution_count": 10,
   "metadata": {},
   "outputs": [
    {
     "name": "stderr",
     "output_type": "stream",
     "text": [
      "C:\\ProgramData\\Anaconda3\\lib\\site-packages\\sklearn\\model_selection\\_search.py:814: DeprecationWarning: The default of the `iid` parameter will change from True to False in version 0.22 and will be removed in 0.24. This will change numeric results when test-set sizes are unequal.\n",
      "  DeprecationWarning)\n"
     ]
    },
    {
     "name": "stdout",
     "output_type": "stream",
     "text": [
      "0.8505494505494505\n",
      "{'colsample_bytree': 0.6, 'gamma': 5, 'max_depth': 5, 'min_child_weight': 1, 'n_estimators': 100, 'subsample': 0.8}\n"
     ]
    }
   ],
   "source": [
    "# RGB - R\n",
    "X = np.concatenate((np.array(lista_treino_rgb_r), np.array(lista_teste_rgb_r)))\n",
    "y = np.concatenate((np.array(classes_treino), np.array(classes_teste)))\n",
    "best_model = grid_search.fit(X, y)\n",
    "print(best_model.best_score_)\n",
    "print(best_model.best_params_)"
   ]
  },
  {
   "cell_type": "code",
   "execution_count": 11,
   "metadata": {},
   "outputs": [
    {
     "name": "stdout",
     "output_type": "stream",
     "text": [
      "0.8065934065934066\n",
      "{'colsample_bytree': 0.7, 'gamma': 2, 'max_depth': 3, 'min_child_weight': 10, 'n_estimators': 100, 'subsample': 0.8}\n"
     ]
    },
    {
     "name": "stderr",
     "output_type": "stream",
     "text": [
      "C:\\ProgramData\\Anaconda3\\lib\\site-packages\\sklearn\\model_selection\\_search.py:814: DeprecationWarning: The default of the `iid` parameter will change from True to False in version 0.22 and will be removed in 0.24. This will change numeric results when test-set sizes are unequal.\n",
      "  DeprecationWarning)\n"
     ]
    }
   ],
   "source": [
    "# RGB - G\n",
    "X = np.concatenate((np.array(lista_treino_rgb_g), np.array(lista_teste_rgb_g)))\n",
    "y = np.concatenate((np.array(classes_treino), np.array(classes_teste)))\n",
    "best_model = grid_search.fit(X, y)\n",
    "print(best_model.best_score_)\n",
    "print(best_model.best_params_)"
   ]
  },
  {
   "cell_type": "code",
   "execution_count": 12,
   "metadata": {},
   "outputs": [
    {
     "name": "stdout",
     "output_type": "stream",
     "text": [
      "0.789010989010989\n",
      "{'colsample_bytree': 0.7, 'gamma': 2, 'max_depth': 4, 'min_child_weight': 1, 'n_estimators': 100, 'subsample': 0.8}\n"
     ]
    },
    {
     "name": "stderr",
     "output_type": "stream",
     "text": [
      "C:\\ProgramData\\Anaconda3\\lib\\site-packages\\sklearn\\model_selection\\_search.py:814: DeprecationWarning: The default of the `iid` parameter will change from True to False in version 0.22 and will be removed in 0.24. This will change numeric results when test-set sizes are unequal.\n",
      "  DeprecationWarning)\n"
     ]
    }
   ],
   "source": [
    "# RGB - B\n",
    "X = np.concatenate((np.array(lista_treino_rgb_b), np.array(lista_teste_rgb_b)))\n",
    "y = np.concatenate((np.array(classes_treino), np.array(classes_teste)))\n",
    "best_model = grid_search.fit(X, y)\n",
    "print(best_model.best_score_)\n",
    "print(best_model.best_params_)"
   ]
  },
  {
   "cell_type": "code",
   "execution_count": 138,
   "metadata": {},
   "outputs": [
    {
     "name": "stdout",
     "output_type": "stream",
     "text": [
      "0.7076923076923077\n",
      "{'colsample_bytree': 0.7, 'gamma': 0.2, 'learning_rate': 0.15, 'max_depth': 5, 'min_child_weight': 1, 'n_estimators': 500}\n"
     ]
    }
   ],
   "source": [
    "# HSV - H\n",
    "X = np.concatenate((np.array(lista_treino_hsv_h), np.array(lista_teste_hsv_h)))\n",
    "y = np.concatenate((np.array(classes_treino), np.array(classes_teste)))\n",
    "best_model = grid_search.fit(X, y)\n",
    "print(best_model.best_score_)\n",
    "print(best_model.best_params_)"
   ]
  },
  {
   "cell_type": "code",
   "execution_count": 139,
   "metadata": {},
   "outputs": [
    {
     "name": "stdout",
     "output_type": "stream",
     "text": [
      "0.7142857142857143\n",
      "{'colsample_bytree': 0.7, 'gamma': 0.2, 'learning_rate': 0.15, 'max_depth': 5, 'min_child_weight': 1, 'n_estimators': 500}\n"
     ]
    }
   ],
   "source": [
    "# HSV - S\n",
    "X = np.concatenate((np.array(lista_treino_hsv_s), np.array(lista_teste_hsv_s)))\n",
    "y = np.concatenate((np.array(classes_treino), np.array(classes_teste)))\n",
    "best_model = grid_search.fit(X, y)\n",
    "print(best_model.best_score_)\n",
    "print(best_model.best_params_)"
   ]
  },
  {
   "cell_type": "code",
   "execution_count": 140,
   "metadata": {},
   "outputs": [
    {
     "name": "stderr",
     "output_type": "stream",
     "text": [
      "C:\\ProgramData\\Anaconda3\\lib\\site-packages\\sklearn\\model_selection\\_search.py:814: DeprecationWarning: The default of the `iid` parameter will change from True to False in version 0.22 and will be removed in 0.24. This will change numeric results when test-set sizes are unequal.\n",
      "  DeprecationWarning)\n"
     ]
    },
    {
     "name": "stdout",
     "output_type": "stream",
     "text": [
      "0.832967032967033\n",
      "{'colsample_bytree': 0.7, 'gamma': 0.2, 'learning_rate': 0.15, 'max_depth': 5, 'min_child_weight': 1, 'n_estimators': 500}\n"
     ]
    }
   ],
   "source": [
    "# HSV - V\n",
    "X = np.concatenate((np.array(lista_treino_hsv_v), np.array(lista_teste_hsv_v)))\n",
    "y = np.concatenate((np.array(classes_treino), np.array(classes_teste)))\n",
    "best_model = grid_search.fit(X, y)\n",
    "print(best_model.best_score_)\n",
    "print(best_model.best_params_)"
   ]
  },
  {
   "cell_type": "code",
   "execution_count": 141,
   "metadata": {},
   "outputs": [
    {
     "name": "stderr",
     "output_type": "stream",
     "text": [
      "C:\\ProgramData\\Anaconda3\\lib\\site-packages\\sklearn\\model_selection\\_search.py:814: DeprecationWarning: The default of the `iid` parameter will change from True to False in version 0.22 and will be removed in 0.24. This will change numeric results when test-set sizes are unequal.\n",
      "  DeprecationWarning)\n"
     ]
    },
    {
     "name": "stdout",
     "output_type": "stream",
     "text": [
      "0.778021978021978\n",
      "{'colsample_bytree': 0.7, 'gamma': 0.2, 'learning_rate': 0.15, 'max_depth': 5, 'min_child_weight': 1, 'n_estimators': 500}\n"
     ]
    }
   ],
   "source": [
    "# LAB - L\n",
    "X = np.concatenate((np.array(lista_treino_lab_l), np.array(lista_teste_lab_l)))\n",
    "y = np.concatenate((np.array(classes_treino), np.array(classes_teste)))\n",
    "best_model = grid_search.fit(X, y)\n",
    "print(best_model.best_score_)\n",
    "print(best_model.best_params_)"
   ]
  },
  {
   "cell_type": "code",
   "execution_count": 142,
   "metadata": {},
   "outputs": [
    {
     "name": "stdout",
     "output_type": "stream",
     "text": [
      "0.8241758241758241\n",
      "{'colsample_bytree': 0.7, 'gamma': 0.2, 'learning_rate': 0.15, 'max_depth': 5, 'min_child_weight': 1, 'n_estimators': 500}\n"
     ]
    }
   ],
   "source": [
    "# LAB - A\n",
    "X = np.concatenate((np.array(lista_treino_lab_a), np.array(lista_teste_lab_a)))\n",
    "y = np.concatenate((np.array(classes_treino), np.array(classes_teste)))\n",
    "best_model = grid_search.fit(X, y)\n",
    "print(best_model.best_score_)\n",
    "print(best_model.best_params_)"
   ]
  },
  {
   "cell_type": "code",
   "execution_count": 143,
   "metadata": {},
   "outputs": [
    {
     "name": "stderr",
     "output_type": "stream",
     "text": [
      "C:\\ProgramData\\Anaconda3\\lib\\site-packages\\sklearn\\model_selection\\_search.py:814: DeprecationWarning: The default of the `iid` parameter will change from True to False in version 0.22 and will be removed in 0.24. This will change numeric results when test-set sizes are unequal.\n",
      "  DeprecationWarning)\n"
     ]
    },
    {
     "name": "stdout",
     "output_type": "stream",
     "text": [
      "0.8021978021978022\n",
      "{'colsample_bytree': 0.7, 'gamma': 0.2, 'learning_rate': 0.15, 'max_depth': 5, 'min_child_weight': 1, 'n_estimators': 500}\n"
     ]
    }
   ],
   "source": [
    "# LAB - B\n",
    "X = np.concatenate((np.array(lista_treino_lab_b), np.array(lista_teste_lab_b)))\n",
    "y = np.concatenate((np.array(classes_treino), np.array(classes_teste)))\n",
    "best_model = grid_search.fit(X, y)\n",
    "print(best_model.best_score_)\n",
    "print(best_model.best_params_)"
   ]
  },
  {
   "cell_type": "code",
   "execution_count": 144,
   "metadata": {},
   "outputs": [
    {
     "name": "stderr",
     "output_type": "stream",
     "text": [
      "C:\\ProgramData\\Anaconda3\\lib\\site-packages\\sklearn\\model_selection\\_search.py:814: DeprecationWarning: The default of the `iid` parameter will change from True to False in version 0.22 and will be removed in 0.24. This will change numeric results when test-set sizes are unequal.\n",
      "  DeprecationWarning)\n"
     ]
    },
    {
     "name": "stdout",
     "output_type": "stream",
     "text": [
      "0.7692307692307693\n",
      "{'colsample_bytree': 0.7, 'gamma': 0.2, 'learning_rate': 0.15, 'max_depth': 5, 'min_child_weight': 1, 'n_estimators': 500}\n"
     ]
    }
   ],
   "source": [
    "# LUV - L\n",
    "X = np.concatenate((np.array(lista_treino_luv_l), np.array(lista_teste_luv_l)))\n",
    "y = np.concatenate((np.array(classes_treino), np.array(classes_teste)))\n",
    "best_model = grid_search.fit(X, y)\n",
    "print(best_model.best_score_)\n",
    "print(best_model.best_params_)"
   ]
  },
  {
   "cell_type": "code",
   "execution_count": 145,
   "metadata": {},
   "outputs": [
    {
     "name": "stderr",
     "output_type": "stream",
     "text": [
      "C:\\ProgramData\\Anaconda3\\lib\\site-packages\\sklearn\\model_selection\\_search.py:814: DeprecationWarning: The default of the `iid` parameter will change from True to False in version 0.22 and will be removed in 0.24. This will change numeric results when test-set sizes are unequal.\n",
      "  DeprecationWarning)\n"
     ]
    },
    {
     "name": "stdout",
     "output_type": "stream",
     "text": [
      "0.7934065934065934\n",
      "{'colsample_bytree': 0.7, 'gamma': 0.2, 'learning_rate': 0.15, 'max_depth': 5, 'min_child_weight': 1, 'n_estimators': 500}\n"
     ]
    }
   ],
   "source": [
    "# LUV - U\n",
    "X = np.concatenate((np.array(lista_treino_luv_u), np.array(lista_teste_luv_u)))\n",
    "y = np.concatenate((np.array(classes_treino), np.array(classes_teste)))\n",
    "best_model = grid_search.fit(X, y)\n",
    "print(best_model.best_score_)\n",
    "print(best_model.best_params_)"
   ]
  },
  {
   "cell_type": "code",
   "execution_count": 146,
   "metadata": {},
   "outputs": [
    {
     "name": "stdout",
     "output_type": "stream",
     "text": [
      "0.7802197802197802\n",
      "{'colsample_bytree': 0.7, 'gamma': 0.2, 'learning_rate': 0.15, 'max_depth': 5, 'min_child_weight': 1, 'n_estimators': 500}\n"
     ]
    }
   ],
   "source": [
    "# LUV - V\n",
    "X = np.concatenate((np.array(lista_treino_luv_v), np.array(lista_teste_luv_v)))\n",
    "y = np.concatenate((np.array(classes_treino), np.array(classes_teste)))\n",
    "best_model = grid_search.fit(X, y)\n",
    "print(best_model.best_score_)\n",
    "print(best_model.best_params_)"
   ]
  },
  {
   "cell_type": "code",
   "execution_count": null,
   "metadata": {},
   "outputs": [],
   "source": []
  }
 ],
 "metadata": {
  "kernelspec": {
   "display_name": "Python 3",
   "language": "python",
   "name": "python3"
  },
  "language_info": {
   "codemirror_mode": {
    "name": "ipython",
    "version": 3
   },
   "file_extension": ".py",
   "mimetype": "text/x-python",
   "name": "python",
   "nbconvert_exporter": "python",
   "pygments_lexer": "ipython3",
   "version": "3.7.3"
  }
 },
 "nbformat": 4,
 "nbformat_minor": 2
}
